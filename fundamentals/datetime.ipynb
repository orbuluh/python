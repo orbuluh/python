{
 "cells": [
  {
   "cell_type": "code",
   "execution_count": null,
   "metadata": {},
   "outputs": [],
   "source": [
    "from datetime import timedelta\n",
    "from datetime import datetime"
   ]
  },
  {
   "cell_type": "code",
   "execution_count": null,
   "metadata": {},
   "outputs": [],
   "source": [
    "d1 = datetime.strptime(\"20230215\", \"%Y%m%d\")\n",
    "d2 = datetime.strptime(\"20220608\", \"%Y%m%d\")\n",
    "print(d1 - d2)"
   ]
  },
  {
   "cell_type": "code",
   "execution_count": null,
   "metadata": {},
   "outputs": [],
   "source": [
    "fullfmt = \"%Y%m%d-%H:%M:%S %Z\"\n",
    "d3 = datetime.strptime(\"20230215-14:25:00 GMT\", fullfmt)\n",
    "print(d3.tzinfo) # None ... e.g. GMT isn't valid, the datetime is naive\n",
    "\n",
    "#from pytz import timezone\n",
    "import pytz\n",
    "\n",
    "hktz = pytz.timezone('Asia/Hong_Kong')\n",
    "d4 = hktz.localize(d3)\n",
    "print(d4.tzinfo) # Correct way to make naive time to be aware!!!\n",
    "print(d4.strftime(fullfmt))\n",
    "\n",
    "eastern = pytz.timezone('US/Eastern')\n",
    "print(d4.astimezone(eastern).strftime(fullfmt))\n",
    "\n"
   ]
  }
 ],
 "metadata": {
  "interpreter": {
   "hash": "aee8b7b246df8f9039afb4144a1f6fd8d2ca17a180786b69acc140d282b71a49"
  },
  "kernelspec": {
   "display_name": "Python 3.9.12 64-bit",
   "language": "python",
   "name": "python3"
  },
  "language_info": {
   "codemirror_mode": {
    "name": "ipython",
    "version": 3
   },
   "file_extension": ".py",
   "mimetype": "text/x-python",
   "name": "python",
   "nbconvert_exporter": "python",
   "pygments_lexer": "ipython3",
   "version": "3.9.13"
  }
 },
 "nbformat": 4,
 "nbformat_minor": 2
}
