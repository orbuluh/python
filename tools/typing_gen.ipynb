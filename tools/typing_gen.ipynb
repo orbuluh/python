{
 "cells": [
  {
   "cell_type": "code",
   "execution_count": 3,
   "metadata": {},
   "outputs": [],
   "source": [
    "import random\n",
    "\n",
    "symbol = {\n",
    "    \"top\": \"%+\\\\|?\",\n",
    "    \"home\": \"=-.,:\",\n",
    "    \"down\": \"^*&`;\",\n",
    "    \"bottom\": \"#/<>\",\n",
    "    \"thumb1\": \"_!~\",\n",
    "    \"thumb2\": \"$@\",\n",
    "    \"rhome\": \"'(){}\",\n",
    "    \"rdown\": '\"[]',\n",
    "}\n",
    "parenthesis = [\"(\", \")\", \"[\", \"]\", \"{\", \"}\", \"<\", \">\"]"
   ]
  },
  {
   "cell_type": "code",
   "execution_count": null,
   "metadata": {},
   "outputs": [],
   "source": [
    "import random\n",
    "\n",
    "all_symbols = \"\".join([v for finger in symbol for v in symbol[finger]])\n",
    "random_combinations = []\n",
    "for _ in range(500):\n",
    "    combination = \"\"\n",
    "    for c in range(3):\n",
    "        combination += random.choice(all_symbols) * 4\n",
    "    random_combinations += [combination]\n",
    "\n",
    "gen_result = \" \".join(random_combinations)\n",
    "import pyperclip\n",
    "\n",
    "pyperclip.copy(gen_result)\n",
    "print(gen_result)\n"
   ]
  },
  {
   "cell_type": "code",
   "execution_count": null,
   "metadata": {},
   "outputs": [],
   "source": [
    "import itertools\n",
    "\n",
    "all_rows = [s for s in symbol.values()]\n",
    "# [\"down\", \"thumb1\", \"thumb2\", \"top\", \"bottom\", \"rdown\", \"rhome\", \"home\"]:\n",
    "\n",
    "gen_result = \" \".join([\"\".join(p) for p in itertools.permutations(symbol[\"thumb1\"])])\n",
    "\n",
    "import pyperclip\n",
    "\n",
    "pyperclip.copy(gen_result)\n",
    "print(gen_result)\n"
   ]
  },
  {
   "cell_type": "code",
   "execution_count": null,
   "metadata": {},
   "outputs": [],
   "source": [
    "count = 0\n",
    "\n",
    "\n",
    "def gen_one_word(**kwargs):\n",
    "    # Randomly select a finger and a level\n",
    "    selected_finger = kwargs.get(\"finger\", random.choice(list(symbol.keys())))\n",
    "    selected_level = kwargs.get(\n",
    "        \"level\", random.choice(list(symbol[selected_finger].keys()))\n",
    "    )\n",
    "    selected_symbol = symbol[selected_finger][selected_level]\n",
    "\n",
    "    # Shuffle the selected symbol's characters\n",
    "    shuffled_symbol = list(selected_symbol)\n",
    "    random.shuffle(shuffled_symbol)\n",
    "    # repeat same pattern twice for memory\n",
    "    shuffled_symbol = \"\".join(shuffled_symbol * 2)\n",
    "\n",
    "    global count\n",
    "    count += 1\n",
    "\n",
    "    return shuffled_symbol\n",
    "\n",
    "\n",
    "gen_result = \" \".join([gen_one_word() for _ in range(500)])\n",
    "\n",
    "import pyperclip\n",
    "\n",
    "pyperclip.copy(gen_result)\n",
    "print(gen_result)\n"
   ]
  },
  {
   "cell_type": "code",
   "execution_count": null,
   "metadata": {},
   "outputs": [],
   "source": [
    "import pyperclip\n",
    "\n",
    "gen_result = \" \".join([c * 9 for c in \"#$%&'()*+,-./:;<=>?@[\\]^_`{|}~\"])\n",
    "# gen_result = \" \".join([c * 6 for c in \"!`=^@~-+*_|&\"])\n",
    "pyperclip.copy(gen_result)\n",
    "print(gen_result)\n"
   ]
  }
 ],
 "metadata": {
  "kernelspec": {
   "display_name": "Python 3",
   "language": "python",
   "name": "python3"
  },
  "language_info": {
   "codemirror_mode": {
    "name": "ipython",
    "version": 3
   },
   "file_extension": ".py",
   "mimetype": "text/x-python",
   "name": "python",
   "nbconvert_exporter": "python",
   "pygments_lexer": "ipython3",
   "version": "3.11.10"
  }
 },
 "nbformat": 4,
 "nbformat_minor": 2
}
