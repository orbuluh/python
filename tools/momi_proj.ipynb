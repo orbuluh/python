{
 "cells": [
  {
   "cell_type": "code",
   "execution_count": 2,
   "metadata": {},
   "outputs": [],
   "source": [
    "from FinMind.data import DataLoader\n",
    "from api_util import get_api_key\n",
    "\n",
    "api_key = get_api_key(\"FIN_MIND_KEY\")\n",
    "\n",
    "fin_mind = DataLoader()\n",
    "fin_mind.login_by_token(api_token=api_key)"
   ]
  },
  {
   "cell_type": "code",
   "execution_count": 4,
   "metadata": {},
   "outputs": [],
   "source": [
    "stock_info = fin_mind.taiwan_stock_info()"
   ]
  },
  {
   "cell_type": "code",
   "execution_count": 5,
   "metadata": {},
   "outputs": [
    {
     "name": "stdout",
     "output_type": "stream",
     "text": [
      "Index(['industry_category', 'stock_id', 'stock_name', 'type', 'date'], dtype='object')\n",
      "     industry_category stock_id stock_name  type        date\n",
      "1080               航運業     2618        長榮航  twse  2023-06-03\n",
      "1090               航運業     2645       長榮航太  twse  2023-06-03\n"
     ]
    }
   ],
   "source": [
    "print(stock_info.columns)\n",
    "result = stock_info[stock_info['stock_name'].str.contains('長榮航')]\n",
    "print(result)"
   ]
  },
  {
   "cell_type": "code",
   "execution_count": 3,
   "metadata": {},
   "outputs": [
    {
     "name": "stdout",
     "output_type": "stream",
     "text": [
      "Index(['stock_id', 'Trading_Volume', 'Trading_money', 'open', 'max', 'min',\n",
      "       'close', 'spread', 'Trading_turnover'],\n",
      "      dtype='object')\n"
     ]
    }
   ],
   "source": [
    "\n",
    "import pandas as pd\n",
    "df = fin_mind.taiwan_stock_daily(\n",
    "    stock_id='3306',\n",
    "    start_date='2023-01-01',\n",
    "    end_date='2023-06-03'\n",
    ")\n",
    "\n",
    "# original date column has type object, convert it to datetime64[ns]\n",
    "df['date'] = pd.to_datetime(df['date'])\n",
    "\n",
    "# Set the 'date' column as the DataFrame index\n",
    "df.set_index('date', inplace=True)\n",
    "\n",
    "print(df.columns)"
   ]
  },
  {
   "cell_type": "code",
   "execution_count": 13,
   "metadata": {},
   "outputs": [],
   "source": [
    "import ta\n",
    "\n",
    "from ta.volatility import BollingerBands\n",
    "from ta.momentum import rsi\n",
    "\n",
    "bb_band_window = 60\n",
    "bb_band_window_dev=2\n",
    "\n",
    "# Initialize Bollinger Bands Indicator\n",
    "indicator_bb = BollingerBands(close=df[\"close\"],\n",
    "                              n=bb_band_window,\n",
    "                              ndev=bb_band_window_dev)\n",
    "\n",
    "# Add Bollinger Bands features\n",
    "df['bb_bbm'] = indicator_bb.bollinger_mavg()\n",
    "df['bb_bbh'] = indicator_bb.bollinger_hband()\n",
    "df['bb_bbl'] = indicator_bb.bollinger_lband()\n",
    "df['bb_diff'] = df['bb_bbh'] - df['bb_bbl']\n",
    "df['bb_ratio'] = df['bb_diff'] / df['bb_diff'].shift(1)\n",
    "\n",
    "\n",
    "# Add Bollinger Band high indicator\n",
    "#df['bb_bbhi'] = indicator_bb.bollinger_hband_indicator()\n",
    "\n",
    "# Add Bollinger Band low indicator\n",
    "#df['bb_bbli'] = indicator_bb.bollinger_lband_indicator()\n",
    "\n",
    "\n",
    "# Calculate Relative Strength Index (RSI)\n",
    "for i in range(2, 10):\n",
    "    df[f\"{i}-rsi\"] = rsi(df['close'], n=i, fillna=True)\n",
    "\n",
    "df['rsi_6week'] = rsi(df['close'], n=42, fillna=True)\n",
    "df['rsi_6month'] = rsi(df['close'], n=180, fillna=True)\n",
    "\n",
    "# Calculate average volume for different periods\n",
    "df['avg_volume_4'] = df['Trading_Volume'].rolling(window=4).mean()\n"
   ]
  },
  {
   "cell_type": "code",
   "execution_count": 14,
   "metadata": {},
   "outputs": [
    {
     "name": "stdout",
     "output_type": "stream",
     "text": [
      "           stock_id  Trading_Volume  Trading_money   open    max    min   \n",
      "date                                                                      \n",
      "2023-05-31     3306         1989000       63716200  30.45  32.65  30.40  \\\n",
      "2023-06-01     3306         4174000      147986200  34.60  35.90  34.40   \n",
      "2023-06-02     3306        18375000      697691950  37.40  39.45  36.05   \n",
      "\n",
      "            close  spread  Trading_turnover     bb_bbm  ...  rsi_1day   \n",
      "date                                                    ...             \n",
      "2023-05-31  32.65    2.95              1125  25.856667  ...     100.0  \\\n",
      "2023-06-01  35.90    3.25              2069  26.061667  ...     100.0   \n",
      "2023-06-02  36.50    0.60              7990  26.267500  ...     100.0   \n",
      "\n",
      "             rsi_7day      2-rsi      3-rsi      4-rsi      5-rsi      6-rsi   \n",
      "date                                                                           \n",
      "2023-05-31  72.505273  75.370077  73.207834  72.926023  72.863227  72.733877  \\\n",
      "2023-06-01  80.189321  89.268812  84.841168  82.934622  81.801316  80.940750   \n",
      "2023-06-02  81.314106  91.119198  86.468251  84.358000  83.086865  82.132197   \n",
      "\n",
      "                7-rsi      8-rsi      9-rsi  \n",
      "date                                         \n",
      "2023-05-31  72.505273  72.198394  71.841001  \n",
      "2023-06-01  80.189321  79.491225  78.828330  \n",
      "2023-06-02  81.314106  80.566776  79.865966  \n",
      "\n",
      "[3 rows x 27 columns]\n"
     ]
    }
   ],
   "source": [
    "print(df.tail(3))"
   ]
  },
  {
   "cell_type": "code",
   "execution_count": 15,
   "metadata": {},
   "outputs": [
    {
     "name": "stdout",
     "output_type": "stream",
     "text": [
      "Index(['date', 'stock_id', 'Trading_Volume', 'Trading_money', 'open', 'max',\n",
      "       'min', 'close', 'spread', 'Trading_turnover'],\n",
      "      dtype='object')\n",
      "0    753.0\n",
      "1    749.0\n",
      "2    742.0\n",
      "3    756.0\n",
      "4    758.0\n",
      "Name: close, dtype: float64\n",
      "-------------\n",
      "0            NaN\n",
      "1            NaN\n",
      "2            NaN\n",
      "3            NaN\n",
      "4            NaN\n",
      "5            NaN\n",
      "6            NaN\n",
      "7            NaN\n",
      "8            NaN\n",
      "9            NaN\n",
      "10           NaN\n",
      "11           NaN\n",
      "12           NaN\n",
      "13           NaN\n",
      "14           NaN\n",
      "15           NaN\n",
      "16           NaN\n",
      "17           NaN\n",
      "18           NaN\n",
      "19    781.022710\n",
      "20    773.713993\n",
      "21    766.261391\n",
      "22    759.363843\n",
      "23    747.892097\n",
      "24    733.349517\n",
      "25    718.086372\n",
      "26    697.816387\n",
      "27    690.115126\n",
      "28    689.442808\n",
      "29    691.788970\n",
      "30    696.258215\n",
      "31    702.000280\n",
      "32    709.672716\n",
      "33    713.597180\n",
      "34    715.531948\n",
      "35    723.650808\n",
      "36    732.497114\n",
      "37    747.206409\n",
      "38    758.004888\n",
      "39    764.138840\n",
      "40    770.175285\n",
      "Name: close, dtype: float64\n"
     ]
    }
   ],
   "source": [
    "import numpy as np\n",
    "\n",
    "def calculate_bbands(df, close_col, period, num_std_devs):\n",
    "    # Calculate the Simple Moving Average (SMA) using a rolling window\n",
    "    sma = df[close_col].rolling(window=period).mean()\n",
    "\n",
    "    # Calculate the standard deviation using a rolling window\n",
    "    std_dev = df[close_col].rolling(window=period).std()\n",
    "\n",
    "    # Calculate the upper and lower bands\n",
    "    upper_band = sma + (std_dev * num_std_devs)\n",
    "    lower_band = sma - (std_dev * num_std_devs)\n",
    "\n",
    "    return upper_band, lower_band\n",
    "\n",
    "\n",
    "def calculate_rsi(df, closing_price_col, period):\n",
    "    closing_prices = df[closing_price_col].values\n",
    "    price_changes = np.diff(closing_prices)\n",
    "    gains = np.where(price_changes > 0, price_changes, 0)\n",
    "    losses = np.where(price_changes < 0, abs(price_changes), 0)\n",
    "\n",
    "    avg_gain = np.mean(gains[:period])\n",
    "    avg_loss = np.mean(losses[:period])\n",
    "    \n",
    "    rs = avg_gain / avg_loss if avg_loss != 0 else 0\n",
    "    \n",
    "    rsi = 100 - (100 / (1 + rs))\n",
    "    \n",
    "    return rsi\n",
    "\n",
    "\n",
    "\n",
    "\n",
    "\n",
    "\n",
    "ub, lb = calculate_bbands(df, 'close', 20, 2)\n",
    "print(\"-------------\")\n",
    "print(ub)\n",
    "#print(lb)"
   ]
  }
 ],
 "metadata": {
  "kernelspec": {
   "display_name": "Python 3",
   "language": "python",
   "name": "python3"
  },
  "language_info": {
   "codemirror_mode": {
    "name": "ipython",
    "version": 3
   },
   "file_extension": ".py",
   "mimetype": "text/x-python",
   "name": "python",
   "nbconvert_exporter": "python",
   "pygments_lexer": "ipython3",
   "version": "3.10.6"
  },
  "orig_nbformat": 4
 },
 "nbformat": 4,
 "nbformat_minor": 2
}
