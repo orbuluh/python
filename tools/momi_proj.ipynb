{
 "cells": [
  {
   "cell_type": "code",
   "execution_count": null,
   "metadata": {},
   "outputs": [],
   "source": [
    "from FinMind.data import DataLoader\n",
    "from api_util import get_api_key\n",
    "\n",
    "api_key = get_api_key(\"FIN_MIND_KEY\")\n",
    "\n",
    "fin_mind = DataLoader()\n",
    "fin_mind.login_by_token(api_token=api_key)"
   ]
  },
  {
   "cell_type": "code",
   "execution_count": null,
   "metadata": {},
   "outputs": [],
   "source": [
    "stock_info = fin_mind.taiwan_stock_info()"
   ]
  },
  {
   "cell_type": "code",
   "execution_count": null,
   "metadata": {},
   "outputs": [],
   "source": [
    "print(stock_info.columns)\n",
    "result = stock_info[stock_info['stock_name'].str.contains('長榮航')]\n",
    "print(result)"
   ]
  },
  {
   "cell_type": "code",
   "execution_count": null,
   "metadata": {},
   "outputs": [],
   "source": [
    "\n",
    "import pandas as pd\n",
    "df = fin_mind.taiwan_stock_daily(\n",
    "    stock_id='3306',\n",
    "    start_date='2023-01-01',\n",
    "    end_date='2023-06-03'\n",
    ")\n",
    "\n",
    "# original date column has type object, convert it to datetime64[ns]\n",
    "df['date'] = pd.to_datetime(df['date'])\n",
    "\n",
    "# Set the 'date' column as the DataFrame index\n",
    "df.set_index('date', inplace=True)\n",
    "\n",
    "print(df.columns)"
   ]
  },
  {
   "cell_type": "code",
   "execution_count": null,
   "metadata": {},
   "outputs": [],
   "source": [
    "import ta\n",
    "\n",
    "from ta.volatility import BollingerBands\n",
    "from ta.momentum import rsi\n",
    "\n",
    "bb_band_window = 60\n",
    "bb_band_window_dev=2\n",
    "\n",
    "# Initialize Bollinger Bands Indicator\n",
    "indicator_bb = BollingerBands(close=df[\"close\"],\n",
    "                              n=bb_band_window,\n",
    "                              ndev=bb_band_window_dev)\n",
    "\n",
    "# Add Bollinger Bands features\n",
    "df['bb_bbm'] = indicator_bb.bollinger_mavg()\n",
    "df['bb_bbh'] = indicator_bb.bollinger_hband()\n",
    "df['bb_bbl'] = indicator_bb.bollinger_lband()\n",
    "df['bb_diff'] = df['bb_bbh'] - df['bb_bbl']\n",
    "df['bb_ratio'] = df['bb_diff'] / df['bb_diff'].shift(1)\n",
    "\n",
    "\n",
    "# Add Bollinger Band high indicator\n",
    "#df['bb_bbhi'] = indicator_bb.bollinger_hband_indicator()\n",
    "\n",
    "# Add Bollinger Band low indicator\n",
    "#df['bb_bbli'] = indicator_bb.bollinger_lband_indicator()\n",
    "\n",
    "\n",
    "# Calculate Relative Strength Index (RSI)\n",
    "for i in range(2, 10):\n",
    "    df[f\"{i}-rsi\"] = rsi(df['close'], n=i, fillna=True)\n",
    "\n",
    "df['rsi_6week'] = rsi(df['close'], n=42, fillna=True)\n",
    "df['rsi_6month'] = rsi(df['close'], n=180, fillna=True)\n",
    "\n",
    "# Calculate average volume for different periods\n",
    "df['avg_volume_4'] = df['Trading_Volume'].rolling(window=4).mean()\n"
   ]
  },
  {
   "cell_type": "code",
   "execution_count": null,
   "metadata": {},
   "outputs": [],
   "source": [
    "print(df.tail(3))"
   ]
  },
  {
   "cell_type": "code",
   "execution_count": null,
   "metadata": {},
   "outputs": [],
   "source": [
    "import numpy as np\n",
    "\n",
    "def calculate_bbands(df, close_col, period, num_std_devs):\n",
    "    # Calculate the Simple Moving Average (SMA) using a rolling window\n",
    "    sma = df[close_col].rolling(window=period).mean()\n",
    "\n",
    "    # Calculate the standard deviation using a rolling window\n",
    "    std_dev = df[close_col].rolling(window=period).std()\n",
    "\n",
    "    # Calculate the upper and lower bands\n",
    "    upper_band = sma + (std_dev * num_std_devs)\n",
    "    lower_band = sma - (std_dev * num_std_devs)\n",
    "\n",
    "    return upper_band, lower_band\n",
    "\n",
    "\n",
    "def calculate_rsi(df, closing_price_col, period):\n",
    "    closing_prices = df[closing_price_col].values\n",
    "    price_changes = np.diff(closing_prices)\n",
    "    gains = np.where(price_changes > 0, price_changes, 0)\n",
    "    losses = np.where(price_changes < 0, abs(price_changes), 0)\n",
    "\n",
    "    avg_gain = np.mean(gains[:period])\n",
    "    avg_loss = np.mean(losses[:period])\n",
    "    \n",
    "    rs = avg_gain / avg_loss if avg_loss != 0 else 0\n",
    "    \n",
    "    rsi = 100 - (100 / (1 + rs))\n",
    "    \n",
    "    return rsi\n",
    "\n",
    "\n",
    "\n",
    "\n",
    "\n",
    "\n",
    "ub, lb = calculate_bbands(df, 'close', 20, 2)\n",
    "print(\"-------------\")\n",
    "print(ub)\n",
    "#print(lb)"
   ]
  }
 ],
 "metadata": {
  "kernelspec": {
   "display_name": "Python 3",
   "language": "python",
   "name": "python3"
  },
  "language_info": {
   "codemirror_mode": {
    "name": "ipython",
    "version": 3
   },
   "file_extension": ".py",
   "mimetype": "text/x-python",
   "name": "python",
   "nbconvert_exporter": "python",
   "pygments_lexer": "ipython3",
   "version": "3.10.6"
  }
 },
 "nbformat": 4,
 "nbformat_minor": 2
}
