{
 "cells": [
  {
   "cell_type": "code",
   "execution_count": null,
   "metadata": {},
   "outputs": [],
   "source": [
    "from fin_data_util import (\n",
    "    get_alpha_vantage_stock_data,\n",
    "    get_alpha_vantage_fx_data,\n",
    "    get_alpha_vantage_tw_stock_data,\n",
    "    alpha_vantage_symbol_search,\n",
    "    get_twelve_data_stock_data,\n",
    "    process_twse_response,\n",
    ")\n",
    "\n",
    "#data = get_alpha_vantage_stock_data(\"IBM\", \"60min\")\n",
    "#data = get_alpha_vantage_fx_data(\"HKD\", \"TWD\")\n",
    "\n",
    "#data = get_alpha_vantage_tw_stock_data(\"2330.TW\")\n",
    "\n",
    "data = alpha_vantage_symbol_search(\"taiwan\")\n",
    "\n",
    "#print(get_twelve_data_stock_data(\"5009\", \"1day\"))\n",
    "\n",
    "\n",
    "#df = process_twse_response(get_twse_data(\"2002\", datetime.date(2023, 4, 3)))"
   ]
  },
  {
   "cell_type": "code",
   "execution_count": null,
   "metadata": {},
   "outputs": [],
   "source": [
    "#for key, value in data.items():\n",
    "\n",
    "for d in data['bestMatches']:\n",
    "    print(d)\n",
    "\n",
    "#print(data)\n",
    "\n"
   ]
  },
  {
   "cell_type": "code",
   "execution_count": null,
   "metadata": {},
   "outputs": [],
   "source": [
    "\n",
    "print(df)"
   ]
  }
 ],
 "metadata": {
  "kernelspec": {
   "display_name": "Python 3",
   "language": "python",
   "name": "python3"
  },
  "language_info": {
   "codemirror_mode": {
    "name": "ipython",
    "version": 3
   },
   "file_extension": ".py",
   "mimetype": "text/x-python",
   "name": "python",
   "nbconvert_exporter": "python",
   "pygments_lexer": "ipython3",
   "version": "3.10.6"
  }
 },
 "nbformat": 4,
 "nbformat_minor": 2
}
