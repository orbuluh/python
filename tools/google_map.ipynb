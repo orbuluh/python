{
 "cells": [
  {
   "cell_type": "code",
   "execution_count": null,
   "metadata": {},
   "outputs": [],
   "source": [
    "import requests\n",
    "from api_util import get_api_key\n",
    "from urllib.parse import quote\n",
    "\n",
    "\n",
    "api_key = get_api_key('GOOGLE_MAP_API')\n",
    "\n",
    "\n",
    "def find_nearby_stations(address, radius):\n",
    "    # Step 1: Geocode the address to obtain its coordinates\n",
    "    encoded_address = quote(address)\n",
    "    #print(encoded_address)\n",
    "    geocoding_url = f'https://maps.googleapis.com/maps/api/geocode/json?address={encoded_address}&key={api_key}'\n",
    "    response = requests.get(geocoding_url)\n",
    "    data = response.json()\n",
    "    print(data)\n",
    "\n",
    "    if data['status'] == 'OK':\n",
    "        location = data['results'][0]['geometry']['location']\n",
    "        latitude = location['lat']\n",
    "        longitude = location['lng']\n",
    "        print(f\"{latitude},{longitude}\")\n",
    "\n",
    "        # Step 2: Perform a nearby search for subway/railway stations\n",
    "        places_url = (\n",
    "            'https://maps.googleapis.com/maps/api/place/nearbysearch/json?'\n",
    "            f'location={latitude},{longitude}&radius={radius}'\n",
    "            f'&type=subway_station|train_station|transit_station'\n",
    "            f'&keyword=station'\n",
    "            f'&key={api_key}'\n",
    "        )\n",
    "        response = requests.get(places_url)\n",
    "        data = response.json()\n",
    "        print(data)\n",
    "\n",
    "        if data['status'] == 'OK':\n",
    "            stations = data['results']\n",
    "\n",
    "            # Step 3: Process the results\n",
    "            for station in stations:\n",
    "                name = station['name']\n",
    "                address = station['vicinity']\n",
    "                print(f\"Name: {name}\\nAddress: {address}\\n\")\n",
    "            return data\n",
    "        else:\n",
    "            print(\"Error occurred while searching for nearby stations.\")\n",
    "    else:\n",
    "        print(\"Error occurred while geocoding the address.\")\n",
    "\n",
    "# Call the function with the desired address and radius (in meters)\n",
    "data = find_nearby_stations('〒103-0022 東京都中央区日本橋室町３丁目２−1', 500)\n",
    "#find_nearby_stations('1600 Amphitheatre Parkway, Mountain View, CA 94043, USA', 500)\n",
    "#find_nearby_stations('1-1-2 Nishi-Shinjuku, Shinjuku City, Tokyo 160-0023, Japan', 500)\n"
   ]
  },
  {
   "cell_type": "code",
   "execution_count": null,
   "metadata": {},
   "outputs": [],
   "source": [
    "for s in data['results']:\n",
    "    \n",
    "    print(s)"
   ]
  },
  {
   "cell_type": "code",
   "execution_count": null,
   "metadata": {},
   "outputs": [],
   "source": [
    "def get_place_details(place_id):\n",
    "    details_url = f'https://maps.googleapis.com/maps/api/place/details/json?place_id={place_id}&key={api_key}'\n",
    "    response = requests.get(details_url)\n",
    "    data = response.json()\n",
    "    return data['result']\n",
    "\n",
    "d2 = get_place_details(\"ChIJhUBdNFaJGGARJ8IfGyQIX8s\")\n",
    "print(d2)"
   ]
  },
  {
   "cell_type": "code",
   "execution_count": null,
   "metadata": {},
   "outputs": [],
   "source": [
    "import json\n",
    "formatted_details = json.dumps(d2, indent=4, ensure_ascii=False)\n",
    "#print(formatted_details)"
   ]
  }
 ],
 "metadata": {
  "kernelspec": {
   "display_name": "Python 3",
   "language": "python",
   "name": "python3"
  },
  "language_info": {
   "codemirror_mode": {
    "name": "ipython",
    "version": 3
   },
   "file_extension": ".py",
   "mimetype": "text/x-python",
   "name": "python",
   "nbconvert_exporter": "python",
   "pygments_lexer": "ipython3",
   "version": "3.10.6"
  }
 },
 "nbformat": 4,
 "nbformat_minor": 2
}
