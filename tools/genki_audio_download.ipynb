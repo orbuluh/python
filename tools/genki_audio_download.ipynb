{
 "cells": [
  {
   "cell_type": "code",
   "execution_count": null,
   "metadata": {},
   "outputs": [],
   "source": [
    "#!/usr/bin/python3\n",
    "\n",
    "import re\n",
    "import requests\n",
    "from bs4 import BeautifulSoup\n",
    "\n",
    "\n",
    "url = \"https://t-nagano.com/projects/JapaneseGenki3rdEdAudio/#JWS\"\n",
    "\n",
    "headers = {\n",
    "    \"User-Agent\": \"Mozilla/5.0 (Windows NT 10.0; Win64; x64; rv:91.0) Gecko/20100101 Firefox/91.0\"\n",
    "}\n",
    "# Send an HTTP request to the URL with custom headers\n",
    "response = requests.get(url, headers=headers)\n",
    "# Check if the request was successful (status code 200)\n",
    "assert(response.status_code == 200)\n",
    "soup = BeautifulSoup(response.text, 'html.parser')"
   ]
  },
  {
   "cell_type": "code",
   "execution_count": null,
   "metadata": {},
   "outputs": [],
   "source": [
    "span_tags = soup.find_all('li')\n",
    "\n",
    "allMp3Link = set()\n",
    "for span in span_tags:\n",
    "    href_tags = span.find_all('a')\n",
    "    for tag in href_tags:\n",
    "        allMp3Link.add(tag[\"href\"])"
   ]
  },
  {
   "cell_type": "code",
   "execution_count": null,
   "metadata": {},
   "outputs": [],
   "source": [
    "import wget\n",
    "import time\n",
    "import random\n",
    "import glob\n",
    "\n",
    "downloaded = set()\n",
    "for f in glob.glob(\"genki_3rd_audio/*\"):\n",
    "    downloaded.add(f.split(\"/\")[-1])\n",
    "\n",
    "for link in allMp3Link:\n",
    "    print(link)\n",
    "    wget.download(link, out=\"genki_3rd_audio\")\n",
    "    rand_sleep_time = random.randint(1, 2)\n",
    "    time.sleep(random.uniform(0.1, 1.3) + 1)\n",
    "\n",
    "#print(tabulate(sorted(allMp3Link), tablefmt=\"plain\"))"
   ]
  },
  {
   "cell_type": "code",
   "execution_count": null,
   "metadata": {},
   "outputs": [],
   "source": [
    "#---------------------------\n",
    "# handle the audio to your format\n",
    "#---------------------------\n",
    "\n",
    "import glob\n",
    "import os\n",
    "import re\n",
    "import shutil\n",
    "for f in glob.glob(\"genki_3rd_audio/*\"):\n",
    "    dirname = os.path.dirname(f)\n",
    "    filename = os.path.basename(f)\n",
    "    m = re.search(\"Genki3rdEdAudio_(.*)-(.*).mp3\", filename)\n",
    "    if not m: continue\n",
    "    chapter, section = m.groups()\n",
    "    m = re.search(\"(\\d+)\", chapter)\n",
    "    if not m:\n",
    "        continue\n",
    "    chapter_num = int(m.group(1))\n",
    "    if chapter_num < 9 or chapter_num >= 12: # no need for now...\n",
    "        continue    \n",
    "    target_folder = f\"{dirname}/{chapter}\"    \n",
    "    if not os.path.exists(target_folder):\n",
    "        os.makedirs(target_folder)\n",
    "    shutil.copy(f, f\"{target_folder}/{chapter}-{section}.mp3\")"
   ]
  }
 ],
 "metadata": {
  "kernelspec": {
   "display_name": "Python 3",
   "language": "python",
   "name": "python3"
  },
  "language_info": {
   "codemirror_mode": {
    "name": "ipython",
    "version": 3
   },
   "file_extension": ".py",
   "mimetype": "text/x-python",
   "name": "python",
   "nbconvert_exporter": "python",
   "pygments_lexer": "ipython3",
   "version": "3.10.12"
  }
 },
 "nbformat": 4,
 "nbformat_minor": 2
}
